{
 "cells": [
  {
   "cell_type": "code",
   "execution_count": 1,
   "id": "9b53fdbd",
   "metadata": {},
   "outputs": [],
   "source": [
    "import numpy as np\n",
    "import pandas as pd\n",
    "import matplotlib.pyplot as plt\n",
    "import seaborn as sns\n",
    " \n",
    "## imported libraries which might be useful later"
   ]
  },
  {
   "cell_type": "code",
   "execution_count": 2,
   "id": "e583a1ff",
   "metadata": {},
   "outputs": [],
   "source": [
    "#read timecovers.csv file"
   ]
  },
  {
   "cell_type": "code",
   "execution_count": 3,
   "id": "7b5d709c",
   "metadata": {},
   "outputs": [
    {
     "data": {
      "text/html": [
       "<div>\n",
       "<style scoped>\n",
       "    .dataframe tbody tr th:only-of-type {\n",
       "        vertical-align: middle;\n",
       "    }\n",
       "\n",
       "    .dataframe tbody tr th {\n",
       "        vertical-align: top;\n",
       "    }\n",
       "\n",
       "    .dataframe thead th {\n",
       "        text-align: right;\n",
       "    }\n",
       "</style>\n",
       "<table border=\"1\" class=\"dataframe\">\n",
       "  <thead>\n",
       "    <tr style=\"text-align: right;\">\n",
       "      <th></th>\n",
       "      <th>Name</th>\n",
       "      <th>Occupation</th>\n",
       "      <th>POY</th>\n",
       "      <th>Cover #</th>\n",
       "      <th>Year</th>\n",
       "      <th>Order</th>\n",
       "    </tr>\n",
       "  </thead>\n",
       "  <tbody>\n",
       "    <tr>\n",
       "      <th>0</th>\n",
       "      <td>Joseph G. Cannon</td>\n",
       "      <td>Politics &amp; Gov</td>\n",
       "      <td>N</td>\n",
       "      <td>1.0</td>\n",
       "      <td>1923</td>\n",
       "      <td>1</td>\n",
       "    </tr>\n",
       "    <tr>\n",
       "      <th>1</th>\n",
       "      <td>Warren G. Harding</td>\n",
       "      <td>Politics &amp; Gov</td>\n",
       "      <td>N</td>\n",
       "      <td>2.0</td>\n",
       "      <td>1923</td>\n",
       "      <td>2</td>\n",
       "    </tr>\n",
       "    <tr>\n",
       "      <th>2</th>\n",
       "      <td>Hugo Stinnes</td>\n",
       "      <td>Politics &amp; Gov</td>\n",
       "      <td>N</td>\n",
       "      <td>3.0</td>\n",
       "      <td>1923</td>\n",
       "      <td>3</td>\n",
       "    </tr>\n",
       "    <tr>\n",
       "      <th>3</th>\n",
       "      <td>Mustafa Kemal</td>\n",
       "      <td>Politics &amp; Gov</td>\n",
       "      <td>N</td>\n",
       "      <td>4.0</td>\n",
       "      <td>1923</td>\n",
       "      <td>4</td>\n",
       "    </tr>\n",
       "    <tr>\n",
       "      <th>4</th>\n",
       "      <td>Stephen Sanford</td>\n",
       "      <td>Politics &amp; Gov</td>\n",
       "      <td>N</td>\n",
       "      <td>5.0</td>\n",
       "      <td>1923</td>\n",
       "      <td>5</td>\n",
       "    </tr>\n",
       "    <tr>\n",
       "      <th>...</th>\n",
       "      <td>...</td>\n",
       "      <td>...</td>\n",
       "      <td>...</td>\n",
       "      <td>...</td>\n",
       "      <td>...</td>\n",
       "      <td>...</td>\n",
       "    </tr>\n",
       "    <tr>\n",
       "      <th>4358</th>\n",
       "      <td>Hayley Arceneaux</td>\n",
       "      <td>Science</td>\n",
       "      <td>N</td>\n",
       "      <td>3689.0</td>\n",
       "      <td>2021</td>\n",
       "      <td>4359</td>\n",
       "    </tr>\n",
       "    <tr>\n",
       "      <th>4359</th>\n",
       "      <td>Prince Harry</td>\n",
       "      <td>Royalty</td>\n",
       "      <td>N</td>\n",
       "      <td>3690.0</td>\n",
       "      <td>2021</td>\n",
       "      <td>4360</td>\n",
       "    </tr>\n",
       "    <tr>\n",
       "      <th>4360</th>\n",
       "      <td>Princess Meghan</td>\n",
       "      <td>Royalty</td>\n",
       "      <td>N</td>\n",
       "      <td>3690.0</td>\n",
       "      <td>2021</td>\n",
       "      <td>4361</td>\n",
       "    </tr>\n",
       "    <tr>\n",
       "      <th>4361</th>\n",
       "      <td>Jane Goodall</td>\n",
       "      <td>Science</td>\n",
       "      <td>N</td>\n",
       "      <td>3691.0</td>\n",
       "      <td>2021</td>\n",
       "      <td>4362</td>\n",
       "    </tr>\n",
       "    <tr>\n",
       "      <th>4362</th>\n",
       "      <td>Mark Zuckerberg</td>\n",
       "      <td>Business</td>\n",
       "      <td>N</td>\n",
       "      <td>3692.0</td>\n",
       "      <td>2021</td>\n",
       "      <td>4363</td>\n",
       "    </tr>\n",
       "  </tbody>\n",
       "</table>\n",
       "<p>4363 rows × 6 columns</p>\n",
       "</div>"
      ],
      "text/plain": [
       "                   Name      Occupation POY  Cover #  Year  Order\n",
       "0      Joseph G. Cannon  Politics & Gov   N      1.0  1923      1\n",
       "1     Warren G. Harding  Politics & Gov   N      2.0  1923      2\n",
       "2          Hugo Stinnes  Politics & Gov   N      3.0  1923      3\n",
       "3         Mustafa Kemal  Politics & Gov   N      4.0  1923      4\n",
       "4       Stephen Sanford  Politics & Gov   N      5.0  1923      5\n",
       "...                 ...             ...  ..      ...   ...    ...\n",
       "4358   Hayley Arceneaux         Science   N   3689.0  2021   4359\n",
       "4359       Prince Harry         Royalty   N   3690.0  2021   4360\n",
       "4360    Princess Meghan         Royalty   N   3690.0  2021   4361\n",
       "4361       Jane Goodall         Science   N   3691.0  2021   4362\n",
       "4362    Mark Zuckerberg        Business   N   3692.0  2021   4363\n",
       "\n",
       "[4363 rows x 6 columns]"
      ]
     },
     "execution_count": 3,
     "metadata": {},
     "output_type": "execute_result"
    }
   ],
   "source": [
    "a = pd.read_csv('timecovers.csv')\n",
    "a"
   ]
  },
  {
   "cell_type": "code",
   "execution_count": 4,
   "id": "449d332f",
   "metadata": {},
   "outputs": [
    {
     "data": {
      "text/plain": [
       "4363"
      ]
     },
     "execution_count": 4,
     "metadata": {},
     "output_type": "execute_result"
    }
   ],
   "source": [
    "# get number of rows\n",
    "a.shape[0]"
   ]
  },
  {
   "cell_type": "code",
   "execution_count": 5,
   "id": "d9794914",
   "metadata": {},
   "outputs": [
    {
     "data": {
      "text/plain": [
       "19"
      ]
     },
     "execution_count": 5,
     "metadata": {},
     "output_type": "execute_result"
    }
   ],
   "source": [
    "# total occupation through which person of the year is selected   \n",
    "a.Occupation.nunique()"
   ]
  },
  {
   "cell_type": "code",
   "execution_count": 6,
   "id": "93ae6b1a",
   "metadata": {},
   "outputs": [
    {
     "data": {
      "text/plain": [
       "array([1923, 1924, 1925, 1926, 1927, 1928, 1929, 1930, 1931, 1932, 1933,\n",
       "       1934, 1935, 1936, 1937, 1938, 1939, 1940, 1941, 1942, 1943, 1944,\n",
       "       1945, 1946, 1947, 1948, 1949, 1950, 1951, 1952, 1953, 1954, 1955,\n",
       "       1956, 1957, 1958, 1959, 1960, 1961, 1962, 1963, 1964, 1965, 1966,\n",
       "       1967, 1968, 1969, 1970, 1971, 1972, 1973, 1974, 1975, 1976, 1977,\n",
       "       1978, 1979, 1980, 1981, 1982, 1983, 1984, 1985, 1986, 1987, 1988,\n",
       "       1989, 1990, 1991, 1992, 1993, 1994, 1995, 1996, 1997, 1998, 1999,\n",
       "       2000, 2001, 2002, 2003, 2004, 2005, 2006, 2007, 2008, 2009, 2010,\n",
       "       2011, 2012, 2013, 2014, 2015, 2016, 2017, 2018, 2019, 2020, 2021],\n",
       "      dtype=int64)"
      ]
     },
     "execution_count": 6,
     "metadata": {},
     "output_type": "execute_result"
    }
   ],
   "source": [
    "#this data is from 1923 to 2021\n",
    "a.Year.unique()"
   ]
  },
  {
   "cell_type": "code",
   "execution_count": 7,
   "id": "adde4d73",
   "metadata": {},
   "outputs": [
    {
     "data": {
      "text/plain": [
       "99"
      ]
     },
     "execution_count": 7,
     "metadata": {},
     "output_type": "execute_result"
    }
   ],
   "source": [
    "# this data is of 99 years\n",
    "a.Year.nunique()"
   ]
  },
  {
   "cell_type": "code",
   "execution_count": 8,
   "id": "8bc9d58a",
   "metadata": {},
   "outputs": [
    {
     "data": {
      "text/plain": [
       "2847"
      ]
     },
     "execution_count": 8,
     "metadata": {},
     "output_type": "execute_result"
    }
   ],
   "source": [
    "# there are 2847 unique people got selected for time cover\n",
    "a.Name.nunique()"
   ]
  },
  {
   "cell_type": "code",
   "execution_count": 9,
   "id": "15f6e4b0",
   "metadata": {},
   "outputs": [
    {
     "data": {
      "text/plain": [
       "array([1928], dtype=int64)"
      ]
     },
     "execution_count": 9,
     "metadata": {},
     "output_type": "execute_result"
    }
   ],
   "source": [
    "# from which year person of year award started\n",
    "a[a.POY=='Y'].head(1).Year.values"
   ]
  },
  {
   "cell_type": "code",
   "execution_count": 10,
   "id": "97cc4309",
   "metadata": {},
   "outputs": [
    {
     "data": {
      "text/plain": [
       "1961    68\n",
       "Name: Year, dtype: int64"
      ]
     },
     "execution_count": 10,
     "metadata": {},
     "output_type": "execute_result"
    }
   ],
   "source": [
    "# which year has most time covers\n",
    "a.Year.value_counts()[a.Year.value_counts()==a.Year.value_counts().max()]"
   ]
  },
  {
   "cell_type": "code",
   "execution_count": 11,
   "id": "0e374b11",
   "metadata": {},
   "outputs": [
    {
     "data": {
      "text/plain": [
       "Year\n",
       "1961    66\n",
       "Name: Name, dtype: int64"
      ]
     },
     "execution_count": 11,
     "metadata": {},
     "output_type": "execute_result"
    }
   ],
   "source": [
    "# which Year has most time covers with unique peoples\n",
    "a.groupby('Year').Name.nunique()[a.groupby('Year').Name.nunique()==a.groupby('Year').Name.nunique().max()]"
   ]
  },
  {
   "cell_type": "code",
   "execution_count": 12,
   "id": "7265acbe",
   "metadata": {},
   "outputs": [
    {
     "data": {
      "text/plain": [
       "<AxesSubplot:>"
      ]
     },
     "execution_count": 12,
     "metadata": {},
     "output_type": "execute_result"
    },
    {
     "data": {
      "image/png": "[encoded data removed]",
      "text/plain": [
       "<Figure size 432x288 with 1 Axes>"
      ]
     },
     "metadata": {
      "needs_background": "light"
     },
     "output_type": "display_data"
    }
   ],
   "source": [
    "# which occupation has most time covers\n",
    "a.Occupation.value_counts().plot(kind='bar')"
   ]
  },
  {
   "cell_type": "code",
   "execution_count": 13,
   "id": "bf73d074",
   "metadata": {},
   "outputs": [
    {
     "data": {
      "text/plain": [
       "Politics & Gov    46.963099\n",
       "Entertainment      8.228283\n",
       "Business           8.228283\n",
       "Military           7.586523\n",
       "Sports             5.065322\n",
       "Science            4.171442\n",
       "Religion           3.735961\n",
       "Royalty            3.002521\n",
       "Author             2.452441\n",
       "Music              2.016961\n",
       "Theater            1.856521\n",
       "Journalism         1.398121\n",
       "Society            1.375201\n",
       "Crime              1.237680\n",
       "Education          0.870960\n",
       "Arts               0.710520\n",
       "Fashion            0.458400\n",
       "Aviation           0.343800\n",
       "Architecture       0.297960\n",
       "Name: Occupation, dtype: float64"
      ]
     },
     "execution_count": 13,
     "metadata": {},
     "output_type": "execute_result"
    }
   ],
   "source": [
    "# percentage occurence of Occupation in time cover\n",
    "from __future__ import division\n",
    "pcts = a.Occupation.value_counts() / a.Occupation.value_counts().sum()\n",
    "#a.Occupation.value_counts()\n",
    "(pcts*100)"
   ]
  },
  {
   "cell_type": "markdown",
   "id": "c2223f72",
   "metadata": {},
   "source": [
    "# Through this we can conclude that \"Politics & Gov\" is field from which most people got selected for time cover and \n",
    "# POY award started from year 1928\n",
    "# Year 1961 had most time covers which was 66 unique person"
   ]
  },
  {
   "cell_type": "code",
   "execution_count": null,
   "id": "7a074b29",
   "metadata": {},
   "outputs": [],
   "source": []
  }
 ],
 "metadata": {
  "kernelspec": {
   "display_name": "Python 3",
   "language": "python",
   "name": "python3"
  },
  "language_info": {
   "codemirror_mode": {
    "name": "ipython",
    "version": 3
   },
   "file_extension": ".py",
   "mimetype": "text/x-python",
   "name": "python",
   "nbconvert_exporter": "python",
   "pygments_lexer": "ipython3",
   "version": "3.8.8"
  }
 },
 "nbformat": 4,
 "nbformat_minor": 5
}
